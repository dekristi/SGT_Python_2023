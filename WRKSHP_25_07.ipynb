{
 "cells": [
  {
   "cell_type": "code",
   "execution_count": 8,
   "metadata": {},
   "outputs": [],
   "source": [
    "import pandas as pd\n",
    "import json\n",
    "import os"
   ]
  },
  {
   "cell_type": "code",
   "execution_count": 12,
   "metadata": {},
   "outputs": [],
   "source": [
    "# person = {\n",
    "# \"name\":\"Jack\",\n",
    "# \"last_name\":\"Hawk\",\n",
    "# \"age\":35\n",
    "# }\n",
    "\n",
    "person2 = {\n",
    "\"name\":(\"Jack\",\"Hawk\"),\n",
    "\"age\":35\n",
    "}"
   ]
  },
  {
   "cell_type": "code",
   "execution_count": 15,
   "metadata": {},
   "outputs": [],
   "source": [
    "directory = \"persons\"\n",
    "\n",
    "if not os.path.exists(directory):\n",
    "    os.makedirs(directory)\n",
    "\n",
    "with open(\"persons/person2.json\",\"w\") as json_f:\n",
    "    json.dump(person2,json_f)"
   ]
  },
  {
   "cell_type": "code",
   "execution_count": 39,
   "metadata": {},
   "outputs": [],
   "source": [
    "person1 = {\"id\":1,\"name\":\"Sukarno\", \"last_name\":\"Gefen\", \"age\": 24}\n",
    "person2 = {\"id\":2, \"name\":\"Ki\", \"last_name\":\"Diodotos\", \"age\": 32}\n",
    "person3 = {\"id\":3, \"name\":\"Sanjit\", \"last_name\":\"Henny\", \"age\": 21}\n",
    "\n",
    "persons = list()\n",
    "persons.append(person1)\n",
    "persons.append(person2)\n",
    "persons.append(person3)"
   ]
  },
  {
   "cell_type": "code",
   "execution_count": 40,
   "metadata": {},
   "outputs": [],
   "source": [
    "with open(\"persons.json\",\"w\") as json_f:\n",
    "    json.dump(persons,json_f)"
   ]
  },
  {
   "cell_type": "code",
   "execution_count": 41,
   "metadata": {},
   "outputs": [],
   "source": [
    "with open(\"persons.json\",\"r\") as json_f:\n",
    "    persons_data = json.load(json_f)"
   ]
  },
  {
   "cell_type": "code",
   "execution_count": 42,
   "metadata": {},
   "outputs": [
    {
     "data": {
      "text/plain": [
       "[{'id': 1, 'name': 'Sukarno', 'last_name': 'Gefen', 'age': 24},\n",
       " {'id': 2, 'name': 'Ki', 'last_name': 'Diodotos', 'age': 32},\n",
       " {'id': 3, 'name': 'Sanjit', 'last_name': 'Henny', 'age': 21}]"
      ]
     },
     "execution_count": 42,
     "metadata": {},
     "output_type": "execute_result"
    }
   ],
   "source": [
    "persons_data"
   ]
  },
  {
   "cell_type": "code",
   "execution_count": 43,
   "metadata": {},
   "outputs": [],
   "source": [
    "person = {\"id\":4,\"name\":\"Paula\", \"last_name\":\"Tekila\", \"age\": 24}\n",
    "persons_data.append(person)"
   ]
  },
  {
   "cell_type": "code",
   "execution_count": 44,
   "metadata": {},
   "outputs": [],
   "source": [
    "with open(\"persons.json\",\"w\") as json_f:\n",
    "    json.dump(persons_data,json_f)"
   ]
  },
  {
   "cell_type": "code",
   "execution_count": 45,
   "metadata": {},
   "outputs": [
    {
     "data": {
      "text/plain": [
       "[{'id': 1, 'name': 'Sukarno', 'last_name': 'Gefen', 'age': 24},\n",
       " {'id': 2, 'name': 'Ki', 'last_name': 'Diodotos', 'age': 32},\n",
       " {'id': 3, 'name': 'Sanjit', 'last_name': 'Henny', 'age': 21},\n",
       " {'id': 4, 'name': 'Paula', 'last_name': 'Tekila', 'age': 24}]"
      ]
     },
     "execution_count": 45,
     "metadata": {},
     "output_type": "execute_result"
    }
   ],
   "source": [
    "persons_data"
   ]
  },
  {
   "cell_type": "code",
   "execution_count": 51,
   "metadata": {},
   "outputs": [],
   "source": [
    "class PersonsDB:\n",
    "    def __init__(self):\n",
    "        with open(\"persons.json\", \"r\") as json_f:\n",
    "            self.persons_data = json.load(json_f)\n",
    "            self.persons_data_init = self.persons_data.copy()\n",
    "\n",
    "    def get_last_id(self):\n",
    "        last_id = -1\n",
    "        for person in self.persons_data:\n",
    "            if last_id < person[\"id\"]:\n",
    "                last_id = person[\"id\"]\n",
    "        return last_id\n",
    "\n",
    "    def insert (self,name:str, last_name:str, age:int):\n",
    "        new_id = self.get_last_id() + 1\n",
    "        person = {\"id\":new_id, \"name\":name,\"last_name\":last_name, \"age\":age}\n",
    "        self.persons_data.append(person)\n",
    "\n",
    "    def commit(self):\n",
    "        with open(\"persons.json\",\"w\") as json_f:\n",
    "            json.dump(self.persons_data,json_f)\n",
    "            \n",
    "    def rollback(self):\n",
    "        self.persons_data = self.persons_data_init.copy()\n",
    "\n",
    "    def load_initial_file(self):\n",
    "        with open(\"persons.json\", \"r\") as json_f:\n",
    "            self.persons_data = json.load(json_f)\n",
    "\n",
    "    def update (self,name:str, last_name:str, age:int):\n",
    "        person_upd = None\n",
    "        for person in self.persons_data:\n",
    "            if person[\"id\"] == id:\n",
    "                person_upd = person\n",
    "                break\n",
    "        if person_upd ==None:\n",
    "            return True\n",
    "        \n",
    "        if not (name == None):\n",
    "            person[\"name\"] = name\n",
    "        if not (last_name == None):\n",
    "            person[\"last_name\"] = last_name\n",
    "        if not (age == None):\n",
    "            person[\"age\"] = age\n",
    "        return True"
   ]
  },
  {
   "cell_type": "code",
   "execution_count": 52,
   "metadata": {},
   "outputs": [],
   "source": [
    "persond_db = PersonsDB()"
   ]
  },
  {
   "cell_type": "code",
   "execution_count": 53,
   "metadata": {},
   "outputs": [],
   "source": [
    "persond_db.insert(\"Arturs\", \"Olekss\", 35)"
   ]
  },
  {
   "cell_type": "code",
   "execution_count": 54,
   "metadata": {},
   "outputs": [
    {
     "data": {
      "text/plain": [
       "[{'id': 1, 'name': 'Sukarno', 'last_name': 'Gefen', 'age': 24},\n",
       " {'id': 2, 'name': 'Ki', 'last_name': 'Diodotos', 'age': 32},\n",
       " {'id': 3, 'name': 'Sanjit', 'last_name': 'Henny', 'age': 21},\n",
       " {'id': 4, 'name': 'Paula', 'last_name': 'Tekila', 'age': 24}]"
      ]
     },
     "execution_count": 54,
     "metadata": {},
     "output_type": "execute_result"
    }
   ],
   "source": [
    "persons_data"
   ]
  },
  {
   "cell_type": "code",
   "execution_count": null,
   "metadata": {},
   "outputs": [],
   "source": []
  },
  {
   "cell_type": "code",
   "execution_count": null,
   "metadata": {},
   "outputs": [],
   "source": []
  }
 ],
 "metadata": {
  "kernelspec": {
   "display_name": "Python 3",
   "language": "python",
   "name": "python3"
  },
  "language_info": {
   "codemirror_mode": {
    "name": "ipython",
    "version": 3
   },
   "file_extension": ".py",
   "mimetype": "text/x-python",
   "name": "python",
   "nbconvert_exporter": "python",
   "pygments_lexer": "ipython3",
   "version": "3.11.4"
  },
  "orig_nbformat": 4
 },
 "nbformat": 4,
 "nbformat_minor": 2
}
