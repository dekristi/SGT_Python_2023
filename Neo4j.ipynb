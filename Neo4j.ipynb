{
 "cells": [
  {
   "cell_type": "code",
   "execution_count": 1,
   "metadata": {},
   "outputs": [
    {
     "name": "stdout",
     "output_type": "stream",
     "text": [
      "Collecting neo4j\n",
      "  Downloading neo4j-5.11.0.tar.gz (188 kB)\n",
      "                                              0.0/188.4 kB ? eta -:--:--\n",
      "     ------                                   30.7/188.4 kB ? eta -:--:--\n",
      "     -------------------                     92.2/188.4 kB 1.3 MB/s eta 0:00:01\n",
      "     -------------------------------------  184.3/188.4 kB 1.6 MB/s eta 0:00:01\n",
      "     -------------------------------------- 188.4/188.4 kB 1.6 MB/s eta 0:00:00\n",
      "  Installing build dependencies: started\n",
      "  Installing build dependencies: finished with status 'done'\n",
      "  Getting requirements to build wheel: started\n",
      "  Getting requirements to build wheel: finished with status 'done'\n",
      "  Installing backend dependencies: started\n",
      "  Installing backend dependencies: finished with status 'done'\n",
      "  Preparing metadata (pyproject.toml): started\n",
      "  Preparing metadata (pyproject.toml): finished with status 'done'\n",
      "Requirement already satisfied: pytz in d:\\python\\lib\\site-packages (from neo4j) (2023.3)\n",
      "Building wheels for collected packages: neo4j\n",
      "  Building wheel for neo4j (pyproject.toml): started\n",
      "  Building wheel for neo4j (pyproject.toml): finished with status 'done'\n",
      "  Created wheel for neo4j: filename=neo4j-5.11.0-py3-none-any.whl size=259816 sha256=b3457db79bf9b1d5b7231165d08f9ab2e19d1240075b41735afb5915deb239ca\n",
      "  Stored in directory: c:\\users\\д\\appdata\\local\\pip\\cache\\wheels\\1c\\36\\cb\\72001d55a7e428adca30886ee6314c7b4fdd49d9fdd98ae7e3\n",
      "Successfully built neo4j\n",
      "Installing collected packages: neo4j\n",
      "Successfully installed neo4j-5.11.0\n",
      "Note: you may need to restart the kernel to use updated packages.\n"
     ]
    },
    {
     "name": "stderr",
     "output_type": "stream",
     "text": [
      "\n",
      "[notice] A new release of pip is available: 23.1.2 -> 23.2.1\n",
      "[notice] To update, run: python.exe -m pip install --upgrade pip\n"
     ]
    }
   ],
   "source": [
    "pip install neo4j\n"
   ]
  },
  {
   "cell_type": "code",
   "execution_count": 2,
   "metadata": {},
   "outputs": [],
   "source": [
    "from neo4j import GraphDatabase"
   ]
  },
  {
   "cell_type": "code",
   "execution_count": 8,
   "metadata": {},
   "outputs": [],
   "source": [
    "url = \"neo4j+ssc://1b36ae40.databases.neo4j.io\"\n",
    "username = \"neo4j\"\n",
    "password = 'HSB9NaKfDmLFcGyXx_8MHyyL0Ap3mkd-1VIe1BV5XKs'"
   ]
  },
  {
   "cell_type": "code",
   "execution_count": 9,
   "metadata": {},
   "outputs": [],
   "source": [
    "driver = GraphDatabase.driver(url,auth=(username, password))"
   ]
  },
  {
   "cell_type": "code",
   "execution_count": 13,
   "metadata": {},
   "outputs": [],
   "source": [
    "def create_node(transaction,name,age):\n",
    "    transaction.run(\"CREATE (:Person {name:$name,age:$age})\", name=name,age=age)\n",
    "\n",
    "with driver.session() as session:\n",
    "    session.execute_write(create_node, \"Kristine\",20)"
   ]
  },
  {
   "cell_type": "code",
   "execution_count": null,
   "metadata": {},
   "outputs": [],
   "source": [
    "def create_friendship(transaction,name1,name2):\n",
    "    transaction.run(\"MATCH (person1:Person {name:$name1}), (person2:Person {name:$name2}) CREATE (person1)-[:FRIEND_OF]->(person2)\", name1=name1,name2=name2)"
   ]
  },
  {
   "cell_type": "code",
   "execution_count": null,
   "metadata": {},
   "outputs": [],
   "source": [
    "def get_person(transaction,name):\n",
    "    result = transaction.run(\"MATCH (person:Person {name:$name}) RETURN person.name,person.age\", name=name)\n",
    "    return [(record)]"
   ]
  },
  {
   "cell_type": "code",
   "execution_count": null,
   "metadata": {},
   "outputs": [],
   "source": []
  },
  {
   "cell_type": "code",
   "execution_count": null,
   "metadata": {},
   "outputs": [],
   "source": []
  },
  {
   "cell_type": "code",
   "execution_count": null,
   "metadata": {},
   "outputs": [],
   "source": []
  },
  {
   "cell_type": "code",
   "execution_count": null,
   "metadata": {},
   "outputs": [],
   "source": []
  },
  {
   "cell_type": "code",
   "execution_count": null,
   "metadata": {},
   "outputs": [],
   "source": []
  }
 ],
 "metadata": {
  "kernelspec": {
   "display_name": "Python 3",
   "language": "python",
   "name": "python3"
  },
  "language_info": {
   "codemirror_mode": {
    "name": "ipython",
    "version": 3
   },
   "file_extension": ".py",
   "mimetype": "text/x-python",
   "name": "python",
   "nbconvert_exporter": "python",
   "pygments_lexer": "ipython3",
   "version": "3.11.4"
  },
  "orig_nbformat": 4
 },
 "nbformat": 4,
 "nbformat_minor": 2
}
