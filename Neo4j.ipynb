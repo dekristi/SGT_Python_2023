{
 "cells": [
  {
   "cell_type": "code",
   "execution_count": 1,
   "metadata": {},
   "outputs": [],
   "source": [
    "from neo4j import GraphDatabase"
   ]
  },
  {
   "cell_type": "code",
   "execution_count": 3,
   "metadata": {},
   "outputs": [],
   "source": [
    "url = \"neo4j+ssc://1b36ae40.databases.neo4j.io\"\n",
    "username = \"neo4j\"\n",
    "password = 'HSB9NaKfDmLFcGyXx_8MHyyL0Ap3mkd-1VIe1BV5XKs'"
   ]
  },
  {
   "cell_type": "code",
   "execution_count": 4,
   "metadata": {},
   "outputs": [],
   "source": [
    "driver = GraphDatabase.driver(url,auth=(username, password))"
   ]
  },
  {
   "cell_type": "code",
   "execution_count": 5,
   "metadata": {},
   "outputs": [],
   "source": [
    "def create_node(transaction,name,age):\n",
    "    transaction.run(\"CREATE (:Person {name:$name,age:$age})\", name=name,age=age)\n",
    "\n",
    "with driver.session() as session:\n",
    "    session.execute_write(create_node, \"Karina\",22)     #Creating nodes for users"
   ]
  },
  {
   "cell_type": "code",
   "execution_count": 6,
   "metadata": {},
   "outputs": [],
   "source": [
    "with driver.session() as session:\n",
    "    session.execute_write(create_node, \"Maris\",28)"
   ]
  },
  {
   "cell_type": "code",
   "execution_count": 7,
   "metadata": {},
   "outputs": [],
   "source": [
    "with driver.session() as session:\n",
    "    session.execute_write(create_node, \"KKarlis\",32)"
   ]
  },
  {
   "cell_type": "code",
   "execution_count": 8,
   "metadata": {},
   "outputs": [],
   "source": [
    "with driver.session() as session:\n",
    "    session.execute_write(create_node, \"Sandra\",20)"
   ]
  },
  {
   "cell_type": "code",
   "execution_count": 9,
   "metadata": {},
   "outputs": [],
   "source": [
    "with driver.session() as session:\n",
    "    session.execute_write(create_node, \"Sanita\",30)"
   ]
  },
  {
   "cell_type": "code",
   "execution_count": 10,
   "metadata": {},
   "outputs": [],
   "source": [
    "with driver.session() as session:\n",
    "    session.execute_write(create_node, \"Davis\",33)"
   ]
  },
  {
   "cell_type": "code",
   "execution_count": 11,
   "metadata": {},
   "outputs": [],
   "source": [
    "def create_friendship(transaction,name1,name2):\n",
    "    transaction.run(\"MATCH (person1:Person {name:$name1}), (person2:Person {name:$name2}) CREATE (person1)-[:FRIEND_OF]->(person2)\", name1=name1,name2=name2)\n",
    "\n",
    "with driver.session() as session:\n",
    "    session.execute_write(create_friendship, \"Davis\",\"Sanita\")  # creating relationship"
   ]
  },
  {
   "cell_type": "code",
   "execution_count": 12,
   "metadata": {},
   "outputs": [],
   "source": [
    "with driver.session() as session:\n",
    "    session.execute_write(create_friendship, \"Sanita\",\"Davis\")"
   ]
  },
  {
   "cell_type": "code",
   "execution_count": 13,
   "metadata": {},
   "outputs": [],
   "source": [
    "with driver.session() as session:\n",
    "    session.execute_write(create_friendship, \"Davis\",\"Kristine\")"
   ]
  },
  {
   "cell_type": "code",
   "execution_count": 17,
   "metadata": {},
   "outputs": [],
   "source": [
    "def delete_node(transaction, name):\n",
    "    transaction.run(\"MATCH (person:Person {name:$name}) DETACH DELETE person\", name=name)\n",
    "\n",
    "with driver.session() as session:\n",
    "    session.execute_write(delete_node,\"Kristine\") # deleting node and relationship"
   ]
  },
  {
   "cell_type": "code",
   "execution_count": 18,
   "metadata": {},
   "outputs": [],
   "source": [
    "with driver.session() as session:\n",
    "    session.execute_write(delete_node,\"KKarlis\")"
   ]
  },
  {
   "cell_type": "code",
   "execution_count": 19,
   "metadata": {},
   "outputs": [],
   "source": [
    "with driver.session() as session:\n",
    "    session.execute_write(create_node, \"Karlis\",30)"
   ]
  },
  {
   "cell_type": "code",
   "execution_count": 20,
   "metadata": {},
   "outputs": [],
   "source": [
    "with driver.session() as session:\n",
    "    session.execute_write(create_node, \"Diana\",29)"
   ]
  },
  {
   "cell_type": "code",
   "execution_count": 21,
   "metadata": {},
   "outputs": [],
   "source": [
    "with driver.session() as session:\n",
    "    session.execute_write(create_friendship, \"Sanita\",\"Diana\")"
   ]
  },
  {
   "cell_type": "code",
   "execution_count": 22,
   "metadata": {},
   "outputs": [],
   "source": [
    "with driver.session() as session:\n",
    "    session.execute_write(create_friendship, \"Diana\",\"Karlis\")"
   ]
  },
  {
   "cell_type": "code",
   "execution_count": 23,
   "metadata": {},
   "outputs": [],
   "source": [
    "with driver.session() as session:\n",
    "    session.execute_write(create_friendship, \"Karlis\",\"Diana\")"
   ]
  },
  {
   "cell_type": "code",
   "execution_count": null,
   "metadata": {},
   "outputs": [],
   "source": [
    "with driver.session() as session:\n",
    "    session.execute_write(create_friendship, \"Sanita\",\"Davis\")"
   ]
  },
  {
   "cell_type": "code",
   "execution_count": 26,
   "metadata": {},
   "outputs": [],
   "source": [
    "with driver.session() as session:\n",
    "    session.execute_write(create_friendship, \"Sandra\",\"Maris\")"
   ]
  },
  {
   "cell_type": "code",
   "execution_count": 25,
   "metadata": {},
   "outputs": [],
   "source": [
    "with driver.session() as session:\n",
    "    session.execute_write(create_friendship, \"Maris\",\"Karina\")"
   ]
  },
  {
   "cell_type": "code",
   "execution_count": 27,
   "metadata": {},
   "outputs": [],
   "source": [
    "with driver.session() as session:\n",
    "    session.execute_write(create_friendship, \"Maris\",\"Karlis\")"
   ]
  },
  {
   "cell_type": "code",
   "execution_count": 28,
   "metadata": {},
   "outputs": [],
   "source": [
    "with driver.session() as session:\n",
    "    session.execute_write(create_friendship, \"Sandra\",\"Diana\")"
   ]
  },
  {
   "cell_type": "code",
   "execution_count": 29,
   "metadata": {},
   "outputs": [],
   "source": [
    "with driver.session() as session:\n",
    "    session.execute_write(create_friendship, \"Sanita\",\"Karina\")"
   ]
  },
  {
   "cell_type": "code",
   "execution_count": 30,
   "metadata": {},
   "outputs": [],
   "source": [
    "with driver.session() as session:\n",
    "    session.execute_write(create_friendship, \"Karina\",\"Maris\")"
   ]
  },
  {
   "cell_type": "code",
   "execution_count": 31,
   "metadata": {},
   "outputs": [],
   "source": [
    "with driver.session() as session:\n",
    "    session.execute_write(create_friendship, \"Karina\",\"Davis\")"
   ]
  },
  {
   "cell_type": "code",
   "execution_count": 32,
   "metadata": {},
   "outputs": [],
   "source": [
    "with driver.session() as session:\n",
    "    session.execute_write(create_friendship, \"Karina\",\"Sandra\")"
   ]
  },
  {
   "cell_type": "code",
   "execution_count": 33,
   "metadata": {},
   "outputs": [],
   "source": [
    "with driver.session() as session:\n",
    "    session.execute_write(create_friendship, \"Sandra\",\"Karlis\")"
   ]
  },
  {
   "cell_type": "markdown",
   "metadata": {},
   "source": [
    "Write a Cypher query to find all friends of a given user up to a certain depth (degree of separation)"
   ]
  },
  {
   "cell_type": "code",
   "execution_count": 39,
   "metadata": {},
   "outputs": [],
   "source": [
    "def get_person_with_friends(transaction, name):\n",
    "    result = transaction.run(\"MATCH (person:Person {name:$name}) - [:FRIEND_OF] ->(friend:Person) RETURN person.name, person.age, friend.name, friend.age\", name=name)\n",
    "    return [{\"name\":record[\"person.name\"], \"age\":record[\"person.age\"], \"friend_name\":record[\"friend.name\"], \"friend_age\":record[\"friend.age\"]} for record in result]"
   ]
  },
  {
   "cell_type": "code",
   "execution_count": 42,
   "metadata": {},
   "outputs": [
    {
     "name": "stdout",
     "output_type": "stream",
     "text": [
      "[{'name': 'Karina', 'age': 22, 'friend_name': 'Sandra', 'friend_age': 20}, {'name': 'Karina', 'age': 22, 'friend_name': 'Davis', 'friend_age': 33}, {'name': 'Karina', 'age': 22, 'friend_name': 'Maris', 'friend_age': 28}]\n"
     ]
    }
   ],
   "source": [
    "with driver.session() as session:\n",
    "    output = session.execute_write(get_person_with_friends, \"Karina\")\n",
    "    print(output)"
   ]
  },
  {
   "cell_type": "markdown",
   "metadata": {},
   "source": [
    "Retrieve common friends between two users in the graph"
   ]
  },
  {
   "cell_type": "code",
   "execution_count": 54,
   "metadata": {},
   "outputs": [],
   "source": [
    "def common_friend(transaction, name1, name2):\n",
    "    result = transaction.run(\"MATCH (person1:Person {name:$name1}), (person2:Person {name:$name2}) - [:FRIEND_OF] -> (friend:Person) RETURN person1.name, person2.name, friend.name\", name1=name1, name2=name2)\n",
    "    return [{\"name1\":record[\"person1.name\"], \"name2\":record[\"person2.name\"], \"have_common_friend\":record[\"friend.name\"]} for record in result]"
   ]
  },
  {
   "cell_type": "code",
   "execution_count": 55,
   "metadata": {},
   "outputs": [
    {
     "name": "stdout",
     "output_type": "stream",
     "text": [
      "[{'name1': 'Karina', 'name2': 'Sanita', 'have_common_friend': 'Karina'}, {'name1': 'Karina', 'name2': 'Sanita', 'have_common_friend': 'Diana'}, {'name1': 'Karina', 'name2': 'Sanita', 'have_common_friend': 'Davis'}]\n"
     ]
    }
   ],
   "source": [
    "with driver.session() as session:\n",
    "    output = session.execute_write(common_friend, \"Karina\", \"Sanita\")\n",
    "    print(output)"
   ]
  },
  {
   "cell_type": "markdown",
   "metadata": {},
   "source": [
    "Identifing the shortest path between two nodes"
   ]
  },
  {
   "cell_type": "code",
   "execution_count": 64,
   "metadata": {},
   "outputs": [],
   "source": [
    "def find_shortest_path(transaction, name1, name2):\n",
    "    result = transaction.run(\"MATCH (person1:Person {name:$name1}),(person2:Person {name:$name2}), path = SHORTESTPATH((person1) - [*] - (person2)) RETURN nodes(path), relationships(path)\", name1=name1, name2=name2)\n",
    "    return [{\"nodes\":record[\"nodes(path)\"],\"relationships\":record[\"relationships(path)\"]} for record in result]"
   ]
  },
  {
   "cell_type": "code",
   "execution_count": 68,
   "metadata": {},
   "outputs": [],
   "source": [
    "with driver.session() as session:\n",
    "    output = session.execute_write(find_shortest_path, \"Karina\", \"Diana\")\n",
    "    nodes = output[0][\"nodes\"]\n",
    "    relationships = output[0][\"relationships\"]"
   ]
  },
  {
   "cell_type": "code",
   "execution_count": 69,
   "metadata": {},
   "outputs": [
    {
     "name": "stdout",
     "output_type": "stream",
     "text": [
      "Karina -> Sandra\n",
      "Sandra -> Diana\n"
     ]
    }
   ],
   "source": [
    "  for relationship in relationships:\n",
    "    nodes = relationship.nodes\n",
    "    print(nodes[0].get(\"name\"),\"->\",nodes[1].get(\"name\"))"
   ]
  },
  {
   "cell_type": "code",
   "execution_count": null,
   "metadata": {},
   "outputs": [],
   "source": []
  },
  {
   "cell_type": "code",
   "execution_count": null,
   "metadata": {},
   "outputs": [],
   "source": []
  },
  {
   "cell_type": "code",
   "execution_count": null,
   "metadata": {},
   "outputs": [],
   "source": []
  },
  {
   "cell_type": "code",
   "execution_count": null,
   "metadata": {},
   "outputs": [],
   "source": []
  },
  {
   "cell_type": "code",
   "execution_count": null,
   "metadata": {},
   "outputs": [],
   "source": []
  }
 ],
 "metadata": {
  "kernelspec": {
   "display_name": "Python 3",
   "language": "python",
   "name": "python3"
  },
  "language_info": {
   "codemirror_mode": {
    "name": "ipython",
    "version": 3
   },
   "file_extension": ".py",
   "mimetype": "text/x-python",
   "name": "python",
   "nbconvert_exporter": "python",
   "pygments_lexer": "ipython3",
   "version": "3.11.4"
  },
  "orig_nbformat": 4
 },
 "nbformat": 4,
 "nbformat_minor": 2
}
